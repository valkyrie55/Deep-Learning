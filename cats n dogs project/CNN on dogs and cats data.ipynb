{
 "cells": [
  {
   "cell_type": "markdown",
   "metadata": {},
   "source": [
    "# Import the modules"
   ]
  },
  {
   "cell_type": "code",
   "execution_count": 1,
   "metadata": {},
   "outputs": [],
   "source": [
    "import tensorflow as tf\n",
    "import pickle\n",
    "from tensorflow.keras.models import Sequential\n",
    "from tensorflow.keras.layers import Dense,Flatten, Dropout, Activation\n",
    "#for convolution and pooling\n",
    "from tensorflow.keras.layers import Conv2D, MaxPooling2D"
   ]
  },
  {
   "cell_type": "code",
   "execution_count": null,
   "metadata": {},
   "outputs": [],
   "source": [
    "x = pickle.load('x_pickle','rb')\n",
    "y = pickle.load('y_pickle','rb')\n",
    "\n",
    "#Scale/ normalize the data\n",
    "x = x/255.0\n",
    "#build model\n",
    "model = Sequential()\n",
    "model.add(Conv2D(64),(3,3),input_shape = x.shape[1:])\n",
    "model.add(Activation(\"relu\"))\n",
    "model.add(MaxPooling2D(pool_size =(2,2)))\n",
    "#one more layer\n",
    "model.add(Conv2D(64),(3,3))\n",
    "model.add(Activation(\"relu\"))\n",
    "model.add(MaxPooling2D(pool_size =(2,2)))\n",
    "\n",
    "model.add(Flatten())\n",
    "model.add(Dense(64))\n",
    "\n",
    "#outputlayer\n",
    "model.add(Dense(1))\n",
    "model.add(Activation(\"relu\"))\n",
    "\n",
    "model.compile(optimizer = 'adam',\n",
    "              loss ='binary_crossentropy',\n",
    "              metrics = ['accuracy']\n",
    "             )\n",
    "model.fit(x,y, batch_size = 32, validation_split = 0.1)"
   ]
  },
  {
   "cell_type": "code",
   "execution_count": null,
   "metadata": {},
   "outputs": [],
   "source": []
  }
 ],
 "metadata": {
  "kernelspec": {
   "display_name": "Python 3",
   "language": "python",
   "name": "python3"
  },
  "language_info": {
   "codemirror_mode": {
    "name": "ipython",
    "version": 3
   },
   "file_extension": ".py",
   "mimetype": "text/x-python",
   "name": "python",
   "nbconvert_exporter": "python",
   "pygments_lexer": "ipython3",
   "version": "3.7.1"
  }
 },
 "nbformat": 4,
 "nbformat_minor": 2
}
